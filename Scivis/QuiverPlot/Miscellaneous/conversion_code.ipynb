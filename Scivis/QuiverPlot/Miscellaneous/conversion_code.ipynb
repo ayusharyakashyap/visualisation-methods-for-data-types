{
 "cells": [
  {
   "cell_type": "code",
   "execution_count": 1,
   "id": "8766750a-b519-4297-ad16-a1509c16a7b7",
   "metadata": {},
   "outputs": [],
   "source": [
    "import xarray as xr\n",
    "import pandas as pd"
   ]
  },
  {
   "cell_type": "code",
   "execution_count": 2,
   "id": "266cdfc4-dfc9-446b-8a7a-8f49e1a8d97e",
   "metadata": {},
   "outputs": [],
   "source": [
    "# Open the NetCDF file\n",
    "dataset = xr.open_dataset('bi_2005.nc')"
   ]
  },
  {
   "cell_type": "code",
   "execution_count": 3,
   "id": "0dd3c204-e587-4e67-91f3-88dea7044460",
   "metadata": {},
   "outputs": [],
   "source": [
    "# Convert to a DataFrame\n",
    "df = dataset.to_dataframe().reset_index()"
   ]
  },
  {
   "cell_type": "code",
   "execution_count": 4,
   "id": "eb536e5d-ea62-46c8-b1ff-7b6c536ef613",
   "metadata": {},
   "outputs": [],
   "source": [
    "# Save as .tsv file\n",
    "df.to_csv(\"converted.tsv\", sep='\\t', index=False)"
   ]
  },
  {
   "cell_type": "code",
   "execution_count": null,
   "id": "3722b58c-62ff-4149-9180-e62819d8394b",
   "metadata": {},
   "outputs": [],
   "source": [
    "# Print dataset info\n",
    "print(df)"
   ]
  }
 ],
 "metadata": {
  "kernelspec": {
   "display_name": "Python 3 (ipykernel)",
   "language": "python",
   "name": "python3"
  },
  "language_info": {
   "codemirror_mode": {
    "name": "ipython",
    "version": 3
   },
   "file_extension": ".py",
   "mimetype": "text/x-python",
   "name": "python",
   "nbconvert_exporter": "python",
   "pygments_lexer": "ipython3",
   "version": "3.11.0"
  }
 },
 "nbformat": 4,
 "nbformat_minor": 5
}
